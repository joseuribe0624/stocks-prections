{
 "cells": [
  {
   "cell_type": "code",
   "execution_count": 37,
   "metadata": {},
   "outputs": [],
   "source": [
    "import pandas as pd\n",
    "from os import listdir"
   ]
  },
  {
   "cell_type": "code",
   "execution_count": 33,
   "metadata": {},
   "outputs": [],
   "source": [
    "# Opciones de pandas\n",
    "rows, cols = 10, 10\n",
    "pd.set_option(\"display.max.columns\", cols)\n",
    "pd.set_option(\"display.max.rows\", rows)\n",
    "# Rutas\n",
    "PATH = \"../resources/\""
   ]
  },
  {
   "cell_type": "code",
   "execution_count": null,
   "metadata": {
    "scrolled": true
   },
   "outputs": [],
   "source": [
    "# Limpeza de los datasets individuales\n",
    "data = pd.read_csv(PATH+'fundamental_data/csvs/ABC/ABC-income_statement.csv', header=0, index_col=0)\n",
    "data = data.loc[:, ~data.columns.str.contains('^Unnamed')]\n",
    "data.drop(['AsOriginallyReported', 'Restated'], axis=1, inplace=True)\n",
    "# Creación del dataframe multi-índice\n",
    "#index = pd.MultiIndex.from_product([data.index])\n",
    "columns = pd.MultiIndex.from_product([data.columns, ['ABC']],names=['Attributes', 'Symbol'])\n",
    "data.columns=columns"
   ]
  },
  {
   "cell_type": "code",
   "execution_count": null,
   "metadata": {},
   "outputs": [],
   "source": [
    "# date_drops: fechas que no cumplen con los indices base indicados por los índices del ticker AAPL\n",
    "date_drops = ['2015-05', '2014-02', '1996-06', '2000-08', '2018-01', '2005-10', '2016-01', '2016-02', '2010-02', '2016-05', '2008-07', '2018-10', '2010-08', '2007-08', '2000-07', '2006-10', '2012-04', '2009-01', '2014-05', '2004-10', '2012-05', '2009-02', '2012-11', '1998-07', '2001-01', '2003-07', '2001-05', '2013-05', '2013-02', '2003-01', '2016-11', '2020-02', '2010-01', '2020-11', '2000-04', '1995-12', '2014-11', '2012-01', '2011-07', '2017-11', '2006-07', '2011-08', '2001-07', '1999-08', '2015-01', '2017-08', '1999-05', '2016-04', '1995-09', '2019-05', '2005-05', '2003-08', '2020-05', '2004-05', '2005-02', '2015-04', '2008-08', '1997-03', '1997-12', '1999-11', '2000-02', '2017-02', '2017-01', '2020-04', '2011-01', '2019-01', '2002-07', '2001-10', '1997-09', '2014-04', '2007-10', '1999-01', '2001-11', '2009-07', '2015-02', '2019-07', '2010-11', '2009-08', '2005-07', '2017-05', '2012-02', '2008-01', '2003-11', '2015-07', '2017-10', '2008-04', '2009-04', '2009-11', '2002-04', '2019-11', '1999-04', '2020-01', '1996-09', '2008-11', '2015-08', '2018-08', '2018-05', '1998-03', '2006-04', '1998-04', '2011-04', '2019-04', '2018-02', '2006-08', '2001-08', '2007-05', '2014-01', '2001-02', '2008-05', '2017-04', '2003-04', '1998-11', '2000-05', '2015-10', '2005-11', '2006-01', '2002-11', '2019-08', '2007-02', '2002-10', '2004-11', '2014-10', '2000-10', '2013-04', '2000-01', '2000-11', '2002-02', '1997-06', '2016-08', '2004-01', '2002-08', '2010-07', '2005-04', '2020-08', '2002-01', '2004-07', '2003-10', '1999-02', '2012-07', '2003-05', '2013-07', '2019-10', '2004-02', '2014-08', '2007-11', '2019-02', '2006-11', '2018-07', '2013-01', '2004-08', '2007-04', '1996-03', '2016-07', '2010-04', '2001-04', '2005-08', '1998-08', '2009-10', '2006-02', '2008-02', '2012-10', '2005-01', '2010-10', '1998-05', '2010-05', '2011-10', '2007-07', '2018-11', '2015-11', '2011-11', '2013-10', '2018-04', '1999-10', '2002-05', '2011-05', '2014-07', '1999-07', '2020-07', '2017-07', '2008-10', '1996-12', '2013-08', '2004-04', '2011-02', '2006-05', '1998-10', '2013-11', '2003-02', '2007-01', '2016-10', '2012-08', '2020-10', '2009-05']\n",
    "# stock_drops: stocks que tienen datos faltantes en el atributo 'Revenue'\n",
    "stock_drops= ['HFC', 'ROP', 'AMAT', 'FRC', 'PKG', 'DLTR', 'SIVB', 'BBY', 'EQR', 'CSCO', 'CPRT', 'BF.B', 'CTAS', 'HPQ', 'AKAM', 'STZ', 'TTWO', 'FFIV', 'GIS', 'KR', 'COST', 'STT', 'DRI', 'ISRG', 'ADM', 'LEN', 'WBA', 'LOW', 'ADI', 'RF', 'ADBE', 'MET', 'SCHW', 'HRL', 'DE', 'ROST', 'GPS', 'SJM', 'NKE', 'WMT', 'AZO', 'TIF', 'NTAP', 'CAG', 'HBAN', 'SNPS', 'LHX', 'MKC', 'EQIX', 'VTRS', 'ZION', 'BKNG', 'VTR', 'ADSK', 'CDW', 'KMX', 'MS', 'ORCL', 'VAR', 'LB', 'TGT', 'MOS', 'TJX', 'COO', 'HD', 'JNPR', 'INTU', 'UPS', 'GS', 'PVH', 'PBCT', 'MDT', 'OKE', 'TPR', 'EW', 'SBAC', 'DG', 'NVDA', 'NRG', 'CCL', 'DAL', 'CHTR', 'PAYX', 'BK', 'ILMN', 'A', 'BLK', 'ALXN', 'FDX', 'MU', 'CPB', 'KEY']"
   ]
  },
  {
   "cell_type": "code",
   "execution_count": null,
   "metadata": {},
   "outputs": [],
   "source": [
    "# Limpieza de stocks que no cumplen con las fechas necesarias\n",
    "files = ['income_multistock.csv', 'balance_multistock.csv', 'cash_multistock.csv']\n",
    "for file in files:\n",
    "    data = pd.read_csv(PATH+'backup/'+file, header=[0,1], index_col=0, low_memory=False)\n",
    "    data.drop(date_drops, axis=0, errors='ignore', inplace=True)\n",
    "    data.drop(stock_drops, axis=1, errors='ignore', level='Symbol', inplace=True)\n",
    "    data.to_csv(PATH+file)\n"
   ]
  },
  {
   "cell_type": "code",
   "execution_count": 38,
   "metadata": {},
   "outputs": [],
   "source": [
    "# Generar datos de cierre de cada stock en cada trimestre\n",
    "path = PATH + 'technical_data/daily/'\n",
    "files = listdir(path)\n",
    "for file in files:\n",
    "    data = pd.read_csv(path+file, header=0)\n",
    "    data.set_index(pd.DatetimeIndex(data['Date']), inplace=True)\n",
    "    data.drop(columns=['Date'], inplace=True)\n",
    "    data = data[data.index.month.isin([3,6,9,12])]\n",
    "    data = data[data.index.day==30]\n",
    "    data.to_csv(PATH+'technical_data/quarterly/{}'.format(file))"
   ]
  },
  {
   "cell_type": "code",
   "execution_count": null,
   "metadata": {},
   "outputs": [],
   "source": []
  }
 ],
 "metadata": {
  "kernelspec": {
   "display_name": "Python 3",
   "language": "python",
   "name": "python3"
  },
  "language_info": {
   "codemirror_mode": {
    "name": "ipython",
    "version": 3
   },
   "file_extension": ".py",
   "mimetype": "text/x-python",
   "name": "python",
   "nbconvert_exporter": "python",
   "pygments_lexer": "ipython3",
   "version": "3.9.1"
  }
 },
 "nbformat": 4,
 "nbformat_minor": 4
}
